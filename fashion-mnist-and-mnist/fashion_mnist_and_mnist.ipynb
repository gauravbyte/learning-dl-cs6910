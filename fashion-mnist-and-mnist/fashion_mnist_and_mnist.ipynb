{
  "nbformat": 4,
  "nbformat_minor": 0,
  "metadata": {
    "colab": {
      "name": "fashion_mnist_and_mnist.ipynb",
      "provenance": [],
      "collapsed_sections": []
    },
    "kernelspec": {
      "name": "python3",
      "display_name": "Python 3"
    },
    "language_info": {
      "name": "python"
    }
  },
  "cells": [
    {
      "cell_type": "markdown",
      "source": [
        "# Fashion MNIST and MNIST Classfication\n",
        "Author: Siddharth Betala"
      ],
      "metadata": {
        "id": "TAK5oCnKvAa7"
      }
    },
    {
      "cell_type": "markdown",
      "source": [
        "### Import Necessary Libraries"
      ],
      "metadata": {
        "id": "iKVYW_-IvVxr"
      }
    },
    {
      "cell_type": "code",
      "source": [
        "from copy import deepcopy\n",
        "import numpy as np \n",
        "import matplotlib.pyplot as plt\n",
        "from sklearn.model_selection import train_test_split\n",
        "import tensorflow as tf"
      ],
      "metadata": {
        "id": "8q0-HGxftiyL"
      },
      "execution_count": 1,
      "outputs": []
    },
    {
      "cell_type": "markdown",
      "source": [
        "### Template Classes"
      ],
      "metadata": {
        "id": "Zok7DQubvdF7"
      }
    },
    {
      "cell_type": "code",
      "source": [
        "class AutoDiffFunction():\n",
        "    \"\"\"Format for any function in general which has to be auto-differentiable\n",
        "    \"\"\"\n",
        "\n",
        "    def __init__(self, *args, **kwds) -> None:\n",
        "        self.saved_for_backward = {} # caching to save computation\n",
        "        self.grad = {} # holds gradients\n",
        "\n",
        "    def __call__(self, *args, **kwds):\n",
        "        \n",
        "        # performs one forward and backward pass in each call\n",
        "        output = self.forward(*args, **kwds)\n",
        "        self.grad = self.compute_grad(*args, **kwds)\n",
        "        return output\n",
        "\n",
        "    def forward(self, *args, **kwds):\n",
        "        \"\"\"Calculates a forward pass\n",
        "        \"\"\"\n",
        "        pass\n",
        "\n",
        "    def compute_grad(self, *args, **kwds):\n",
        "        \"\"\"Computes local gradient of that function itself w.r.t its input\n",
        "        \"\"\"\n",
        "        pass\n",
        "\n",
        "    def backward(self, *args, **kwds):\n",
        "        \"\"\"Computes actual gradient w.r.t. the loss after chained gradients ahead \n",
        "            of the function till the loss are passed \n",
        "        \"\"\"\n",
        "        pass\n",
        "\n",
        "\n",
        "class Layer(AutoDiffFunction):\n",
        "    \"\"\"Format to create your own custom layer for the model\n",
        "    \"\"\"\n",
        "    def __init__(self, *args, **kwds) -> None:\n",
        "        super().__init__(*args, **kwds)\n",
        "\n",
        "        self.weights = {} # holds weights of the layer\n",
        "        self.optimizer = None # optimizer for the layer\n",
        "\n",
        "    def initialize_weights(self, *args, **kwds):\n",
        "        \"\"\"Initialize weights for the layer\n",
        "        \"\"\"\n",
        "        pass\n",
        "\n",
        "    def update_weights(self):\n",
        "        \"\"\"Updates weights of the layer using layer's assigned optimizer\n",
        "        \"\"\"\n",
        "        self.optimizer.step(self)\n",
        "\n",
        "\n",
        "class Loss(AutoDiffFunction):\n",
        "    \"\"\"Format to create a custom loss function\n",
        "    \"\"\"\n",
        "\n",
        "    def forward(self, y_true, y_pred):\n",
        "        \"\"\"Calculates a forward pass\n",
        "        \"\"\"\n",
        "        pass \n",
        "\n",
        "    def backward(self):\n",
        "        \"\"\"Computes actual gradient w.r.t. the loss after chained gradients ahead \n",
        "            of the function till the loss are passed \n",
        "        \"\"\"\n",
        "        return self.grad[\"x\"]\n",
        "\n",
        "    def compute_grad(self, y_true, y_pred):\n",
        "        \"\"\"Computes local gradient of that function itself w.r.t its input\n",
        "        \"\"\"\n",
        "        pass\n",
        "\n",
        "\n",
        "class Optimizer():\n",
        "    \"\"\"Format to create a custom optimizer\n",
        "    \"\"\"\n",
        "    def __init__(self, *args, **kwds):\n",
        "        self.remember = {} # remembering parameters from last iteration\n",
        "        pass\n",
        "\n",
        "    def step(self, layer):\n",
        "        \"\"\"Performs the update step for weights of the optmizer\n",
        "\n",
        "        Args:\n",
        "            layer: Layer object assigned to the optimizer \n",
        "        \"\"\"\n",
        "        pass    "
      ],
      "metadata": {
        "id": "OjfpgqU6toze"
      },
      "execution_count": 2,
      "outputs": []
    },
    {
      "cell_type": "markdown",
      "source": [
        "### Activation Functions"
      ],
      "metadata": {
        "id": "WmVT9TG1vzbt"
      }
    },
    {
      "cell_type": "code",
      "source": [
        "class Sigmoid(AutoDiffFunction):\n",
        "    \"\"\" \n",
        "    Represents the Sigmoid Activation function\n",
        "    \"\"\"\n",
        "    def __init__(self) -> None:\n",
        "        super().__init__()\n",
        "\n",
        "    def forward(self, x):\n",
        "        self.saved_for_backward = 1/(1 + np.exp(-x))\n",
        "        return self.saved_for_backward\n",
        "\n",
        "    def compute_grad(self, x):\n",
        "        y = self.saved_for_backward\n",
        "\n",
        "        return {\"x\": y*(1-y)}\n",
        "\n",
        "    def backward(self, dy):\n",
        "        return dy * self.grad[\"x\"]      \n",
        "\n",
        "\n",
        "class RelU(AutoDiffFunction):\n",
        "    \"\"\" \n",
        "    Represents the RelU Activation function\n",
        "    \"\"\"\n",
        "    def __init__(self) -> None:\n",
        "        super().__init__()\n",
        "\n",
        "    def forward(self, x):\n",
        "        self.saved_for_backward = np.where(x>0.0, 1.0, 0.0)\n",
        "\n",
        "        return x * self.saved_for_backward\n",
        "\n",
        "    def compute_grad(self, x):\n",
        "        return {\"x\": self.saved_for_backward}\n",
        "\n",
        "    def backward(self, dy):\n",
        "        return dy * self.grad[\"x\"]\n",
        "    \n",
        "class Tanh(AutoDiffFunction):\n",
        "    \"\"\" \n",
        "    Represents the Tanh Activation function\n",
        "    \"\"\"\n",
        "    def __init__(self) -> None:\n",
        "        super().__init__()\n",
        "\n",
        "    def forward(self, x):\n",
        "        self.saved_for_backward = (np.exp(x) - np.exp(-x)) / (np.exp(x) + np.exp(-x))\n",
        "\n",
        "        return self.saved_for_backward\n",
        "\n",
        "    def compute_grad(self, x):\n",
        "        y = self.saved_for_backward\n",
        "\n",
        "        return {\"x\": 1 - y**2}\n",
        "\n",
        "    def backward(self, dy):\n",
        "        return dy * self.grad[\"x\"]"
      ],
      "metadata": {
        "id": "clMauTMotqxq"
      },
      "execution_count": 3,
      "outputs": []
    },
    {
      "cell_type": "markdown",
      "source": [
        "### Fully-connected Layers"
      ],
      "metadata": {
        "id": "CbX3WWXnwDXm"
      }
    },
    {
      "cell_type": "code",
      "source": [
        "class FC(Layer):\n",
        "    def __init__(self, in_dim, out_dim, weight_decay=None, init_method=\"random\") -> None:\n",
        "        super().__init__()\n",
        "        self.weight_decay = weight_decay\n",
        "        self.init_method = init_method\n",
        "        self.initialize_weights(in_dim, out_dim)\n",
        "\n",
        "    def initialize_weights(self, in_dim, out_dim):\n",
        "        \n",
        "        if self.init_method == \"random\":\n",
        "            scaling_factor = 1/np.sqrt(in_dim)\n",
        "            self.weights[\"w\"] = np.random.randn(in_dim, out_dim) * scaling_factor\n",
        "            self.weights[\"b\"] = np.random.randn(1, out_dim) * scaling_factor\n",
        "        elif self.init_method == \"xavier\":\n",
        "            lim = np.sqrt(6 / (in_dim + out_dim))\n",
        "            self.weights[\"w\"] = np.random.uniform(low=-lim, high=lim, size=(in_dim, out_dim))\n",
        "            self.weights[\"b\"] = np.random.uniform(low=-lim, high=lim, size=(1, out_dim))\n",
        "\n",
        "    def compute_grad(self, x):\n",
        "        \n",
        "        gradients = {}\n",
        "\n",
        "        # y = x * w + b        \n",
        "        # we compute gradients wrt w and x \n",
        "        # gradient wrt b is not required explicitly since we know that it's value is 1\n",
        "        gradients[\"w\"] = self.saved_for_backward[\"x\"].T\n",
        "        gradients[\"x\"] = self.weights[\"w\"].T\n",
        "\n",
        "        return gradients\n",
        "\n",
        "\n",
        "    def forward(self, x):\n",
        "        output = x @ self.weights[\"w\"] + self.weights[\"b\"]\n",
        "        self.saved_for_backward[\"x\"] = x\n",
        "        \n",
        "        return output\n",
        "\n",
        "    def backward(self, dy):\n",
        "        \n",
        "        # calculating gradients wrt input to pass on to previous layer for backprop\n",
        "        dx = dy @ self.grad[\"x\"]\n",
        "        \n",
        "        # calculating gradients wrt weights\n",
        "        dw = self.grad[\"w\"] @ dy\n",
        "        db = np.sum(dy, axis=0, keepdims=True)\n",
        "\n",
        "        # accomodating for weight_decay / L2 regularization\n",
        "        if self.weight_decay:\n",
        "            dw = dw + 2 * self.weight_decay * self.weights[\"w\"]\n",
        "            db = db + 2 * self.weight_decay * self.weights[\"b\"]\n",
        "\n",
        "        self.absolute_gradients = {\"w\": dw, \"b\": db}\n",
        "\n",
        "        return dx\n",
        "\n",
        "    def update_weights(self):\n",
        "        self.optimizer.step(self)"
      ],
      "metadata": {
        "id": "gAJfbhkIttCy"
      },
      "execution_count": 4,
      "outputs": []
    },
    {
      "cell_type": "markdown",
      "source": [
        "### Loss Functions"
      ],
      "metadata": {
        "id": "6knMvo9YwRI2"
      }
    },
    {
      "cell_type": "code",
      "source": [
        "# 1. CROSSENTROPY LOSS\n",
        "class CrossEntropyLossFromLogits(Loss):\n",
        "    def __init__(self) -> None:\n",
        "        super().__init__()\n",
        "        self.n_classes = None\n",
        "\n",
        "    @staticmethod\n",
        "    def softmax(x):\n",
        "        v = np.exp(x)\n",
        "        return v / np.sum(v, axis=1, keepdims=True)\n",
        "\n",
        "    def encode(self, y): \n",
        "        encoded_y = np.zeros(shape=(len(y), self.n_classes))\n",
        "\n",
        "        for i in range(len(y)):\n",
        "            encoded_y[i,y[i]] = 1\n",
        "\n",
        "        return encoded_y\n",
        "\n",
        "    def forward(self, y_pred, y_true):\n",
        "         \n",
        "        probabilities = self.softmax(y_pred)\n",
        "        y_true_encoded = self.encode(y_true)\n",
        "\n",
        "        loss_value = np.mean(np.sum(- y_true_encoded * np.log(probabilities), axis=1))\n",
        "\n",
        "        self.saved_for_backward[\"probabilities\"] = probabilities\n",
        "        self.saved_for_backward[\"y_true\"] = y_true_encoded\n",
        "\n",
        "        return loss_value\n",
        "\n",
        "    def compute_grad(self, y_pred, y_true):\n",
        "\n",
        "        return {\"x\": self.saved_for_backward[\"probabilities\"] - self.saved_for_backward[\"y_true\"]}        \n",
        "\n",
        "\n",
        "# 2. MEAN SQUARED LOSS\n",
        "class MSELossFromLogits(Loss):\n",
        "    def __init__(self) -> None:\n",
        "        super().__init__()\n",
        "        self.n_classes = None\n",
        "\n",
        "    @staticmethod\n",
        "    def softmax(x):\n",
        "        v = np.exp(x)\n",
        "\n",
        "        return v / np.sum(v, axis=1, keepdims=True)\n",
        "\n",
        "    def encode(self, y): \n",
        "        encoded_y = np.zeros(shape=(len(y), self.n_classes))\n",
        "\n",
        "        for i in range(len(y)):\n",
        "            encoded_y[i,y[i]] = 1\n",
        "\n",
        "        return encoded_y\n",
        "    \n",
        "    @staticmethod\n",
        "    def indicator(i, j):\n",
        "        ind = {True: 1, False: 0}\n",
        "        return ind[i==j]\n",
        "\n",
        "    def forward(self, y_pred, y_true):\n",
        "         \n",
        "        probabilities = self.softmax(y_pred)\n",
        "        y_true_encoded = self.encode(y_true)\n",
        "\n",
        "        loss_value = np.mean(np.sum((probabilities - y_true_encoded)**2, axis=1))\n",
        "\n",
        "        self.saved_for_backward[\"probabilities\"] = probabilities\n",
        "        self.saved_for_backward[\"y_true\"] = y_true_encoded\n",
        "\n",
        "        return loss_value\n",
        "\n",
        "    def compute_grad(self, y_pred, y_true):\n",
        "\n",
        "        probs = self.saved_for_backward[\"probabilities\"]\n",
        "        labels = self.saved_for_backward[\"y_true\"]\n",
        "        grad = np.zeros(shape=(len(y_true), self.n_classes))\n",
        "        \n",
        "        for point_counter in range(len(y_true)):\n",
        "            res = 0\n",
        "            for i in range(self.n_classes):\n",
        "                for j in range(self.n_classes):\n",
        "                    \n",
        "                    res = probs[point_counter, j] * (probs[point_counter, j] - labels[point_counter, j]) * (self.indicator(i,j) - probs[point_counter, i])\n",
        "                \n",
        "                grad[point_counter, i] = res\n",
        "        \n",
        "        return {\"x\": grad}"
      ],
      "metadata": {
        "id": "6o5P5jvetu8W"
      },
      "execution_count": 5,
      "outputs": []
    },
    {
      "cell_type": "markdown",
      "source": [
        "### Optimizers"
      ],
      "metadata": {
        "id": "-QI89vQFwdHt"
      }
    },
    {
      "cell_type": "code",
      "source": [
        "# 1. SGD OPTIMIZER\n",
        "class SGD(Optimizer):\n",
        "    def __init__(self, lr=1e-2):\n",
        "        super().__init__()\n",
        "        self.lr = lr\n",
        "\n",
        "    def step(self, layer):\n",
        "\n",
        "        for weight_name, _ in layer.weights.items():\n",
        "            layer.weights[weight_name] = layer.weights[weight_name] - self.lr * layer.absolute_gradients[weight_name]\n",
        "            \n",
        "\n",
        "# 2. MOMENTUM OPTIMIZER\n",
        "class Momentum(Optimizer):\n",
        "    def __init__(self, lr=1e-3, gamma=0.9):\n",
        "        super().__init__()\n",
        "        self.lr = lr\n",
        "        self.gamma = gamma\n",
        "        \n",
        "    def step(self, layer):\n",
        "        \n",
        "        #Initialise update history\n",
        "        if self.remember == {}:\n",
        "            for weight_name, weight in layer.weights.items():\n",
        "                self.remember[weight_name] = {}\n",
        "                self.remember[weight_name][\"v\"] = np.zeros_like(weight)\n",
        "        \n",
        "        #Momentum update rule\n",
        "        for weight_name, weight in layer.weights.items():\n",
        "            self.remember[weight_name][\"v\"] = self.gamma * self.remember[weight_name][\"v\"] + \\\n",
        "                                                self.lr * layer.absolute_gradients[weight_name]\n",
        "            layer.weights[weight_name] = layer.weights[weight_name] - self.remember[weight_name][\"v\"]\n",
        "\n",
        "            \n",
        "# 3. NESTEROV ACCELARATED GRADIENT OPTIMIZER\n",
        "class NAG(Optimizer):\n",
        "    def __init__(self, lr=1e-3, gamma=0.9):\n",
        "        super().__init__()\n",
        "        self.lr = lr\n",
        "        self.gamma = gamma \n",
        "\n",
        "    def step(self, layer):\n",
        "\n",
        "        if self.remember == {}:\n",
        "            for weight_name, weight in layer.weights.items():\n",
        "                self.remember[weight_name] = {}\n",
        "                self.remember[weight_name][\"v\"] = np.zeros_like(weight)\n",
        "\n",
        "        for weight_name, weight in layer.weights.items():\n",
        "            layer.weights[weight_name] = layer.weights[weight_name] + (self.gamma**2) * self.remember[weight_name][\"v\"] - \\\n",
        "                                            (1 + self.gamma) * self.lr * layer.absolute_gradients[weight_name]\n",
        "\n",
        "            self.remember[weight_name][\"v\"] = self.remember[weight_name][\"v\"] * self.gamma - \\\n",
        "                                                self.lr * layer.absolute_gradients[weight_name]\n",
        "\n",
        "# 4. RMSPROP OPTIMIZER\n",
        "class RMSprop(Optimizer):\n",
        "    def __init__(self, lr=1e-3, beta=0.9, epsilon=1e-7):\n",
        "        super().__init__()\n",
        "        self.lr = lr\n",
        "        self.beta = beta\n",
        "        self.epsilon = epsilon\n",
        "        \n",
        "    def step(self, layer):\n",
        "        \n",
        "        #Initialise update history\n",
        "        if self.remember == {}:\n",
        "            for weight_name, weight in layer.weights.items():\n",
        "                self.remember[weight_name] = {}\n",
        "                self.remember[weight_name][\"v\"] = np.zeros_like(weight)\n",
        "        \n",
        "        #RMSprop update rule\n",
        "        for weight_name, weight in layer.weights.items():\n",
        "            self.remember[weight_name][\"v\"] = self.beta * self.remember[weight_name][\"v\"] + \\\n",
        "                                                (1 - self.beta) * (layer.absolute_gradients[weight_name] ** 2)\n",
        "            layer.weights[weight_name] = layer.weights[weight_name] - (self.lr / (np.sqrt(self.remember[weight_name][\"v\"] + \\\n",
        "                                                self.epsilon))) * layer.weights[weight_name]\n",
        "\n",
        "            \n",
        "# 5. ADAM OPTIMIZER\n",
        "class Adam(Optimizer):\n",
        "    def __init__(self, lr=1e-3, beta_1=0.9, beta_2=0.999, epsilon=1e-7):\n",
        "        super().__init__()\n",
        "        self.lr = lr\n",
        "        self.beta_1 = beta_1\n",
        "        self.beta_2 = beta_2\n",
        "        self.epsilon = epsilon\n",
        "        self.t = 1\n",
        "        \n",
        "    def step(self, layer):\n",
        "        \n",
        "        #Initialise update history\n",
        "        if self.remember == {}:\n",
        "            for weight_name, weight in layer.weights.items():\n",
        "                self.remember[weight_name] = {}\n",
        "                self.remember[weight_name][\"v\"] = np.zeros_like(weight)\n",
        "                self.remember[weight_name][\"m\"] = np.zeros_like(weight)\n",
        "        \n",
        "        #Adam update rule\n",
        "        for weight_name, weight in layer.weights.items():\n",
        "            \n",
        "            #Update m_t and v_t\n",
        "            self.remember[weight_name][\"m\"] = self.beta_1 * self.remember[weight_name][\"m\"] + \\\n",
        "                                                (1 -self.beta_1) * layer.absolute_gradients[weight_name]\n",
        "            \n",
        "            self.remember[weight_name][\"v\"] = self.beta_2 * self.remember[weight_name][\"v\"] + \\\n",
        "                                                (1 - self.beta_2) * (layer.absolute_gradients[weight_name]**2)\n",
        "            \n",
        "            #Bias correction\n",
        "            m_hat = self.remember[weight_name][\"m\"]/(1 - self.beta_1 ** self.t)\n",
        "            v_hat = self.remember[weight_name][\"v\"]/(1 - self.beta_2 ** self.t)\n",
        "            \n",
        "            #Update parameters\n",
        "            layer.weights[weight_name] = layer.weights[weight_name] - (self.lr / (np.sqrt(v_hat + self.epsilon))) * m_hat\n",
        "            \n",
        "        self.t += 1\n",
        "            \n",
        "            \n",
        "# 6. NADAM OPTIMIZER            \n",
        "class Nadam(Optimizer):\n",
        "    def __init__(self, lr=0.002, beta_1=0.9, beta_2=0.999, epsilon=1e-7):\n",
        "        super().__init__()\n",
        "        self.lr = lr\n",
        "        self.beta_1 = beta_1\n",
        "        self.beta_2 = beta_2\n",
        "        self.epsilon = epsilon\n",
        "        self.t = 1\n",
        "\n",
        "    def step(self, layer):\n",
        "        \n",
        "        # we have 2 parameters to remember m(t) and v(t) for all weights in the layer\n",
        "        if self.remember == {}:\n",
        "            for weight_name, weight in layer.weights.items():\n",
        "                self.remember[weight_name] = {}\n",
        "                self.remember[weight_name][\"v\"] = np.zeros_like(weight)\n",
        "                self.remember[weight_name][\"m\"] = np.zeros_like(weight)\n",
        "\n",
        "        for weight_name, weight in layer.weights.items():\n",
        "            \n",
        "            self.remember[weight_name][\"m\"] = self.beta_1 * self.remember[weight_name][\"m\"] + \\\n",
        "                                                (1 -self.beta_1) * layer.absolute_gradients[weight_name]\n",
        "\n",
        "            self.remember[weight_name][\"v\"] = self.beta_2 * self.remember[weight_name][\"v\"] + \\\n",
        "                                                (1 - self.beta_2) * layer.absolute_gradients[weight_name]**2\n",
        "\n",
        "            # bias correction step \n",
        "            m_hat = self.remember[weight_name][\"m\"]/(1 - self.beta_1 ** self.t)\n",
        "            v_hat = self.remember[weight_name][\"v\"]/(1 - self.beta_2 ** self.t)\n",
        "\n",
        "            d = self.lr / (np.sqrt(v_hat) + self.epsilon) * (self.beta_1*m_hat + (1-self.beta_1)/\n",
        "                                                (1-self.beta_1 ** self.t) * layer.absolute_gradients[weight_name]) \n",
        "\n",
        "            layer.weights[weight_name] = layer.weights[weight_name] - d\n",
        "\n",
        "        self.t += 1"
      ],
      "metadata": {
        "id": "4jXUhrahtxNb"
      },
      "execution_count": 6,
      "outputs": []
    },
    {
      "cell_type": "markdown",
      "source": [
        "### Neural Network Framework"
      ],
      "metadata": {
        "id": "pDQsaVCVwmEz"
      }
    },
    {
      "cell_type": "code",
      "source": [
        "class NeuralNet():\n",
        "    def __init__(self, layers) -> None:\n",
        "        self.layers = layers\n",
        "        self.history = []\n",
        "\n",
        "    def __call__(self, *args, **kwds):\n",
        "        return self.forward(*args, **kwds)\n",
        "\n",
        "    def compile(self, loss, optimizer):\n",
        "        self.loss = loss\n",
        "\n",
        "        for layer in self.layers:\n",
        "            if isinstance(layer, Layer):\n",
        "                layer.optimizer = deepcopy(optimizer) # each layer has it's own optimizer\n",
        "\n",
        "    def forward(self, x):\n",
        "        \"\"\"Performs forward pass for the entire network\n",
        "\n",
        "        Args:\n",
        "            x (np.ndarray): input array\n",
        "\n",
        "        Returns:\n",
        "            np.ndarray: output of the neural network\n",
        "        \"\"\"\n",
        "        for layer in self.layers:\n",
        "            x = layer(x)\n",
        "\n",
        "        return x\n",
        "\n",
        "    def backward(self):\n",
        "        \"\"\"Performs one backward pass for the entire network\n",
        "            and saves the gradients\n",
        "\n",
        "        Returns:\n",
        "            np.ndarray: gradient of the 1st layer\n",
        "        \"\"\"\n",
        "\n",
        "        gradient = self.loss.backward()\n",
        "        for layer in reversed(self.layers):\n",
        "            gradient = layer.backward(gradient)\n",
        "\n",
        "        return gradient\n",
        "\n",
        "    def update_weights(self):\n",
        "        \"\"\"Updates weights of all layers using the chosen optimizer \n",
        "            and saved gradients\n",
        "        \"\"\"\n",
        "\n",
        "        for layer in reversed(self.layers):\n",
        "            if isinstance(layer, Layer):\n",
        "                layer.update_weights()\n",
        "\n",
        "    @staticmethod\n",
        "    def accuracy_score(y_pred, y_true):\n",
        "        \"\"\"Returns accuracy score\n",
        "\n",
        "        Args:\n",
        "            y_pred (np.ndarray): predicted labels (batch_size X n_classes)\n",
        "            y_true (np.ndarray): true labels (batch_size X 1)\n",
        "\n",
        "        Returns:\n",
        "            [float]: accuracy in fraction\n",
        "        \"\"\"\n",
        "\n",
        "        pred_labels = np.argmax(y_pred, axis=1)\n",
        "        return np.sum(pred_labels == y_true) / len(y_true)\n",
        "\n",
        "    @staticmethod\n",
        "    def create_batches(X, y, batch_size=32):\n",
        "        \"\"\"Creates batches from given dataset of given size\n",
        "\n",
        "        Args:\n",
        "            X (np.ndarray): input features\n",
        "            y (np.ndarray): labels\n",
        "            batch_size (int, optional): batch size. Defaults to 32.\n",
        "\n",
        "        Returns:\n",
        "            list: batches of data as list of (x,y) tuples\n",
        "        \"\"\"\n",
        "        batches = []\n",
        "\n",
        "        for i in range(len(y) // batch_size):\n",
        "            start_idx = batch_size * i\n",
        "            end_idx = batch_size * (i + 1)\n",
        "\n",
        "            batches.append([X[start_idx: end_idx], y[start_idx: end_idx]])\n",
        "\n",
        "        # take care of the last batch which might have batch_size less than the specified one\n",
        "        if len(y) % batch_size != 0:\n",
        "            batches.append([X[end_idx:], y[end_idx:]])\n",
        "\n",
        "        return batches\n",
        "\n",
        "    def fit(self, X_train, y_train, X_val, y_val, batch_size=32, epochs=10):\n",
        "        \"\"\"Fits the model onto the given data\n",
        "\n",
        "        Args:\n",
        "            X_train (np.ndarray): train features\n",
        "            y_train (np.ndarray): train labels\n",
        "            X_val (np.ndarray): validation features\n",
        "            y_val (np.ndarray): validation labels\n",
        "            batch_size (int, optional): batch size. Defaults to 32.\n",
        "            epochs (int, optional): number of epochs to train the model. Defaults to 10.\n",
        "        \"\"\"\n",
        "\n",
        "        # calculate number of classes to pass to the loss function\n",
        "        self.loss.n_classes = len(np.unique(y_train))\n",
        "\n",
        "        train_batches = self.create_batches(X_train, y_train, batch_size=batch_size)\n",
        "        val_batches = self.create_batches(X_val, y_val, batch_size=batch_size)\n",
        "\n",
        "        num_train_batches = len(train_batches)\n",
        "        num_val_batches = len(val_batches)\n",
        "\n",
        "        for epoch in range(1, epochs+1):\n",
        "\n",
        "            total_train_loss = 0\n",
        "            total_train_accuracy = 0\n",
        "\n",
        "            ## TRAINING ##\n",
        "            for X, y in train_batches:\n",
        "\n",
        "                preds = self(X)\n",
        "                total_train_loss += self.loss(preds, y)\n",
        "                total_train_accuracy += self.accuracy_score(preds, y)\n",
        "\n",
        "                _ = self.backward()\n",
        "                self.update_weights()\n",
        "\n",
        "            train_loss_per_epoch = total_train_loss / num_train_batches\n",
        "            train_accuracy = total_train_accuracy / num_train_batches\n",
        "\n",
        "            total_val_loss = 0\n",
        "            total_val_accuracy = 0\n",
        "\n",
        "            ## VALIDATION ##\n",
        "            for X_v, y_v in val_batches:\n",
        "                val_preds = self(X_v)\n",
        "                total_val_loss += self.loss(val_preds, y_v)\n",
        "                total_val_accuracy += self.accuracy_score(val_preds, y_v)\n",
        "            \n",
        "            val_loss_per_epoch = total_val_loss / num_val_batches\n",
        "            val_accuracy = total_val_accuracy / num_val_batches\n",
        "            \n",
        "            print(f\"Epoch: {epoch} Train Loss: {train_loss_per_epoch} Train Accuracy: {train_accuracy} Val Loss: {val_loss_per_epoch} Val Accuracy: {val_accuracy}\")\n",
        "\n",
        "            self.history.append({\"Epoch\" : epoch, \n",
        "                                    \"Train Loss\": train_loss_per_epoch,\n",
        "                                    \"Train Accuracy\": train_accuracy,\n",
        "                                    \"Val Loss\": val_loss_per_epoch,\n",
        "                                    \"Val Accuracy\": val_accuracy})\n",
        "\n",
        "        print(\"\\nModel trained successfully!\")\n",
        "\n",
        "    def evaluate(self, X_test, y_test):\n",
        "        \"\"\"Evaluates the model on a test dataset\n",
        "\n",
        "        Args:\n",
        "            X_test (np.ndarray): test features \n",
        "            y_test (np.ndarray): test labels\n",
        "        \"\"\"\n",
        "\n",
        "        preds = self(X_test)\n",
        "        test_loss = self.loss(preds, y_test)\n",
        "        accuracy = self.accuracy_score(preds, y_test)\n",
        "\n",
        "        print(f\"Test loss: {test_loss} Test accuracy: {accuracy}\")"
      ],
      "metadata": {
        "id": "tM2hEqK6tzUa"
      },
      "execution_count": 7,
      "outputs": []
    },
    {
      "cell_type": "markdown",
      "source": [
        "### Fashion-MNIST"
      ],
      "metadata": {
        "id": "MNnXMPSgwpyo"
      }
    },
    {
      "cell_type": "code",
      "source": [
        "fashion_mnist = tf.keras.datasets.fashion_mnist\n",
        "(train_images, train_labels), (test_images, test_labels) = fashion_mnist.load_data()\n",
        "class_names = ['T-shirt/top', 'Trouser', 'Pullover', 'Dress', 'Coat',\n",
        "                   'Sandal', 'Shirt', 'Sneaker', 'Bag', 'Ankle boot']\n",
        "\n",
        "train_images = train_images / 255.0\n",
        "test_images = test_images / 255.0\n",
        "\n",
        "print(f\"Train samples: {train_images.shape[0]} Test samples: {test_images.shape[0]}\")"
      ],
      "metadata": {
        "colab": {
          "base_uri": "https://localhost:8080/"
        },
        "id": "60NOquebt2-B",
        "outputId": "c0c7ee0f-14ec-4b93-f296-259870398903"
      },
      "execution_count": 8,
      "outputs": [
        {
          "output_type": "stream",
          "name": "stdout",
          "text": [
            "Train samples: 60000 Test samples: 10000\n"
          ]
        }
      ]
    },
    {
      "cell_type": "code",
      "source": [
        "# Utility functions to preprocess image data and plotting\n",
        "\n",
        "def flatten(arr):\n",
        "    arr = arr.reshape(arr.shape[0], -1)\n",
        "    return arr\n",
        "\n",
        "class_names = ['T-shirt/top', 'Trouser', 'Pullover', 'Dress', 'Coat',\n",
        "                   'Sandal', 'Shirt', 'Sneaker', 'Bag', 'Ankle boot']\n",
        "\n",
        "def plot_labels(data, labels, class_names, flatten=False):\n",
        "\n",
        "    uniq_labels = np.unique(labels)\n",
        "\n",
        "    fig, ax = plt.subplots(2,5, figsize=(15, 6))\n",
        "    fig.subplots_adjust(wspace=0.3, hspace=0.3)\n",
        "    ax = ax.reshape(-1)\n",
        "\n",
        "    for i, label in enumerate(uniq_labels):\n",
        "\n",
        "        img = data[np.where(labels == label)[0][0]]\n",
        "\n",
        "        ax[i].set_title(class_names[label])\n",
        "        \n",
        "        if flatten:\n",
        "            img = img.reshape(28, 28)\n",
        "\n",
        "        ax[i].imshow(img)\n",
        "    \n",
        "    plt.show()\n",
        "\n",
        "plot_labels(train_images, train_labels, class_names)"
      ],
      "metadata": {
        "colab": {
          "base_uri": "https://localhost:8080/",
          "height": 383
        },
        "id": "P-jE-Di2t5O6",
        "outputId": "5e73500d-df7b-4005-80e6-4419b3ec49da"
      },
      "execution_count": 9,
      "outputs": [
        {
          "output_type": "display_data",
          "data": {
            "text/plain": [
              "<Figure size 1080x432 with 10 Axes>"
            ],
            "image/png": "[encoded data removed]"
          },
          "metadata": {
            "needs_background": "light"
          }
        }
      ]
    },
    {
      "cell_type": "code",
      "source": [
        "## Splitting the train labels itself into train and validation labels ##\n",
        "train_images = flatten(train_images)\n",
        "test_images = flatten(test_images)\n",
        "\n",
        "train_images, val_images, train_labels, val_labels = train_test_split(train_images, train_labels, test_size=0.1, shuffle=True)\n",
        "print(f\"Train samples: {train_labels.shape[0]}, Validation samples: {val_labels.shape[0]}\")"
      ],
      "metadata": {
        "colab": {
          "base_uri": "https://localhost:8080/"
        },
        "id": "EQyRFoV_t7Vm",
        "outputId": "bb092f0a-2ee3-49ab-bdcc-b7fb848c0be8"
      },
      "execution_count": 10,
      "outputs": [
        {
          "output_type": "stream",
          "name": "stdout",
          "text": [
            "Train samples: 54000, Validation samples: 6000\n"
          ]
        }
      ]
    },
    {
      "cell_type": "code",
      "source": [
        "## Creating an instance of the model ##\n",
        "model = NeuralNet([FC(784, 64), RelU(), FC(64, 10)])\n",
        "optimizer = Nadam()\n",
        "loss = CrossEntropyLossFromLogits()\n",
        "\n",
        "## Compiling the model with the loss and optimizer chosen ##\n",
        "model.compile(loss, optimizer)\n",
        "\n",
        "## Training the model (TEST RUN) ##\n",
        "model.fit(train_images, train_labels, val_images, val_labels, batch_size=128, epochs=5)\n",
        "\n",
        "## Evaluating the model on test data ##\n",
        "model.evaluate(test_images, test_labels)"
      ],
      "metadata": {
        "colab": {
          "base_uri": "https://localhost:8080/"
        },
        "id": "KftduEXct-Ke",
        "outputId": "aa024495-663a-4ff4-879e-ad7bbc293120"
      },
      "execution_count": 11,
      "outputs": [
        {
          "output_type": "stream",
          "name": "stdout",
          "text": [
            "Epoch: 1 Train Loss: 0.5475901607260393 Train Accuracy: 0.8118784910291131 Val Loss: 0.42868370794162386 Val Accuracy: 0.8566916793313071\n",
            "Epoch: 2 Train Loss: 0.4099594776286574 Train Accuracy: 0.8560029832430603 Val Loss: 0.38878533559122924 Val Accuracy: 0.8641954787234043\n",
            "Epoch: 3 Train Loss: 0.3728922860048436 Train Accuracy: 0.8671822105619499 Val Loss: 0.36265964379518284 Val Accuracy: 0.8718180091185411\n",
            "Epoch: 4 Train Loss: 0.347605096760473 Train Accuracy: 0.8764387271496276 Val Loss: 0.3496988131416274 Val Accuracy: 0.8769946808510638\n",
            "Epoch: 5 Train Loss: 0.3294678987447292 Train Accuracy: 0.881402864759648 Val Loss: 0.3418448984434211 Val Accuracy: 0.8776833206686929\n",
            "\n",
            "Model trained successfully!\n",
            "Test loss: 0.37300020746117596 Test accuracy: 0.8658\n"
          ]
        }
      ]
    },
    {
      "cell_type": "code",
      "source": [
        "def get_activation(name):\n",
        "    if name == \"relu\":\n",
        "        return RelU()\n",
        "    elif name == \"tanh\":\n",
        "        return Tanh()\n",
        "    elif name == \"sigmoid\":\n",
        "        return Sigmoid()\n",
        "\n",
        "def get_optimizer(name, lr):\n",
        "    if name == \"sgd\":\n",
        "        return SGD(lr=lr)\n",
        "    elif name == \"momentum\":\n",
        "        return Momentum(lr=lr)\n",
        "    elif name == \"nag\":\n",
        "        return NAG(lr=lr)\n",
        "    elif name == \"rmsprop\":\n",
        "        return RMSprop(lr=lr)\n",
        "    elif name == \"adam\":\n",
        "        return Adam(lr=lr)\n",
        "    elif name == \"nadam\":\n",
        "        return Nadam(lr=lr)\n",
        "\n",
        "def get_loss(name):\n",
        "    if name == \"cross_entropy\":\n",
        "        return CrossEntropyLossFromLogits()\n",
        "    elif name == \"mse\":\n",
        "        return MSELossFromLogits()\n",
        "\n",
        "def create_layers(n_layers, layer_size, activation, weight_decay, init_method):\n",
        "\n",
        "    layers = []\n",
        "    layers.extend([FC(784,layer_size, weight_decay, init_method), get_activation(activation)])\n",
        "    \n",
        "    for _ in range(n_layers):\n",
        "        layers.extend([FC(layer_size, layer_size, weight_decay, init_method), get_activation(activation)])\n",
        "    \n",
        "    layers.append(FC(layer_size, 10, weight_decay, init_method))\n",
        "\n",
        "    return layers"
      ],
      "metadata": {
        "id": "MysEio1yzFUL"
      },
      "execution_count": 12,
      "outputs": []
    },
    {
      "cell_type": "markdown",
      "source": [
        "### MNIST Dataset"
      ],
      "metadata": {
        "id": "Wc9AYSjhw0iC"
      }
    },
    {
      "cell_type": "code",
      "source": [
        "# load mnist dataset\n",
        "(x_train, y_train), (x_test, y_test) = tf.keras.datasets.mnist.load_data()\n",
        "\n",
        "# scaling the images\n",
        "x_train, x_test = x_train / 255.0, x_test / 255.0\n",
        "\n",
        "# flatten images to vectors\n",
        "x_train = flatten(x_train)\n",
        "x_test = flatten(x_test)\n",
        "\n",
        "print(f\"Training samples: {len(x_train)} Test samples: {len(x_test)}\")"
      ],
      "metadata": {
        "colab": {
          "base_uri": "https://localhost:8080/"
        },
        "id": "GXB73qjft__m",
        "outputId": "6a21d39e-d66a-4e55-8d24-ee3c425abc9f"
      },
      "execution_count": 13,
      "outputs": [
        {
          "output_type": "stream",
          "name": "stdout",
          "text": [
            "Training samples: 60000 Test samples: 10000\n"
          ]
        }
      ]
    },
    {
      "cell_type": "code",
      "source": [
        "# plotting one image of each class\n",
        "plot_labels(x_train, y_train, class_names=[\"Class\"+str(i) for i in range(10)], flatten=True)"
      ],
      "metadata": {
        "colab": {
          "base_uri": "https://localhost:8080/",
          "height": 383
        },
        "id": "9Qz6sgFQuK4G",
        "outputId": "b0c8d724-4553-4750-b9c8-03c5a70cf5a7"
      },
      "execution_count": 14,
      "outputs": [
        {
          "output_type": "display_data",
          "data": {
            "text/plain": [
              "<Figure size 1080x432 with 10 Axes>"
            ],
            "image/png": "[encoded data removed]"
          },
          "metadata": {
            "needs_background": "light"
          }
        }
      ]
    },
    {
      "cell_type": "code",
      "source": [
        "## 3 hyper-paramter configurations for MNIST ##\n",
        "\n",
        "# Configuration 1\n",
        "\n",
        "print(\"Configuration 1\\n\")\n",
        "model1 = NeuralNet(create_layers(3, 128, \"relu\", 0, \"xavier\"))\n",
        "model1.compile(loss=CrossEntropyLossFromLogits(), optimizer=Nadam())\n",
        "model1.fit(x_train, y_train, x_test, y_test, batch_size=128, epochs=10)\n",
        "model1.evaluate(x_test, y_test)\n",
        "\n",
        "# Configuration 2\n",
        "\n",
        "print(\"\\nConfiguration 2\\n\")\n",
        "model2 = NeuralNet(create_layers(4, 128, \"relu\", 0, \"xavier\"))\n",
        "model2.compile(loss=CrossEntropyLossFromLogits(), optimizer=Nadam())\n",
        "model2.fit(x_train, y_train, x_test, y_test, batch_size=128, epochs=10)\n",
        "model2.evaluate(x_test, y_test)\n",
        "\n",
        "# Configuration 3\n",
        "\n",
        "print(\"\\nConfiguration 3\\n\")\n",
        "model3 = NeuralNet(create_layers(5, 128, \"relu\", 1e-3, \"xavier\"))\n",
        "model3.compile(loss=CrossEntropyLossFromLogits(), optimizer=Nadam())\n",
        "model3.fit(x_train, y_train, x_test, y_test, batch_size=128, epochs=10)\n",
        "model3.evaluate(x_test, y_test)"
      ],
      "metadata": {
        "colab": {
          "base_uri": "https://localhost:8080/"
        },
        "id": "zMxYFQ7duM6C",
        "outputId": "d783ff1c-9f09-4167-a5c2-b11574ecaf8e"
      },
      "execution_count": 15,
      "outputs": [
        {
          "output_type": "stream",
          "name": "stdout",
          "text": [
            "Configuration 1\n",
            "\n",
            "Epoch: 1 Train Loss: 0.2451462756620302 Train Accuracy: 0.9258784203980099 Val Loss: 0.16972643079315428 Val Accuracy: 0.9488726265822784\n",
            "Epoch: 2 Train Loss: 0.10769609632283435 Train Accuracy: 0.9673618514570007 Val Loss: 0.12473100637089142 Val Accuracy: 0.9627175632911392\n",
            "Epoch: 3 Train Loss: 0.07632527587652436 Train Accuracy: 0.9765902629708599 Val Loss: 0.12766294342835321 Val Accuracy: 0.9650909810126582\n",
            "Epoch: 4 Train Loss: 0.05681080881555886 Train Accuracy: 0.9827369847192609 Val Loss: 0.10187808008798245 Val Accuracy: 0.9733979430379747\n",
            "Epoch: 5 Train Loss: 0.04863459033474706 Train Accuracy: 0.9844027629708599 Val Loss: 0.1185031206037492 Val Accuracy: 0.9682555379746836\n",
            "Epoch: 6 Train Loss: 0.04163021801882207 Train Accuracy: 0.9866848791755508 Val Loss: 0.14389013949095836 Val Accuracy: 0.9666732594936709\n",
            "Epoch: 7 Train Loss: 0.03913261102291151 Train Accuracy: 0.9874844527363184 Val Loss: 0.11334843006938249 Val Accuracy: 0.9746835443037974\n",
            "Epoch: 8 Train Loss: 0.03490705753639315 Train Accuracy: 0.9893834399431414 Val Loss: 0.11788260243010656 Val Accuracy: 0.9736946202531646\n",
            "Epoch: 9 Train Loss: 0.030204909541360764 Train Accuracy: 0.9903329335465529 Val Loss: 0.16504015599258526 Val Accuracy: 0.9665743670886076\n",
            "Epoch: 10 Train Loss: 0.02688985325711312 Train Accuracy: 0.9908659825870646 Val Loss: 0.10240271997850213 Val Accuracy: 0.9763647151898734\n",
            "\n",
            "Model trained successfully!\n",
            "Test loss: 0.10354957274578917 Test accuracy: 0.9761\n",
            "\n",
            "Configuration 2\n",
            "\n",
            "Epoch: 1 Train Loss: 0.25029069374632695 Train Accuracy: 0.923735119047619 Val Loss: 0.14954733185583519 Val Accuracy: 0.955498417721519\n",
            "Epoch: 2 Train Loss: 0.11469513342669303 Train Accuracy: 0.9656794154228855 Val Loss: 0.1470447044407913 Val Accuracy: 0.959256329113924\n",
            "Epoch: 3 Train Loss: 0.08623971873931394 Train Accuracy: 0.9736362828713575 Val Loss: 0.13437728973702096 Val Accuracy: 0.9636075949367089\n",
            "Epoch: 4 Train Loss: 0.06824702739773095 Train Accuracy: 0.9791999822316987 Val Loss: 0.09787266751956288 Val Accuracy: 0.9737935126582279\n",
            "Epoch: 5 Train Loss: 0.057216203849507034 Train Accuracy: 0.9825037757640369 Val Loss: 0.1496184766081771 Val Accuracy: 0.9629153481012658\n",
            "Epoch: 6 Train Loss: 0.0515974646592925 Train Accuracy: 0.9841806592039801 Val Loss: 0.15740560460945796 Val Accuracy: 0.9611352848101266\n",
            "Epoch: 7 Train Loss: 0.042928866274838044 Train Accuracy: 0.9867015369580667 Val Loss: 0.14665232681760798 Val Accuracy: 0.9651898734177216\n",
            "Epoch: 8 Train Loss: 0.040384918540744275 Train Accuracy: 0.9874289267945985 Val Loss: 0.14965399281161046 Val Accuracy: 0.9642009493670886\n",
            "Epoch: 9 Train Loss: 0.03698635349673716 Train Accuracy: 0.9887671019900497 Val Loss: 0.11738662586444633 Val Accuracy: 0.9735957278481012\n",
            "Epoch: 10 Train Loss: 0.031073399815834242 Train Accuracy: 0.9908826403695806 Val Loss: 0.10369568231437311 Val Accuracy: 0.9766613924050633\n",
            "\n",
            "Model trained successfully!\n",
            "Test loss: 0.10485637240616774 Test accuracy: 0.9764\n",
            "\n",
            "Configuration 3\n",
            "\n",
            "Epoch: 1 Train Loss: 0.26318094683163185 Train Accuracy: 0.9191875444207533 Val Loss: 0.1674010440116417 Val Accuracy: 0.9506526898734177\n",
            "Epoch: 2 Train Loss: 0.116529090588154 Train Accuracy: 0.9655905739161337 Val Loss: 0.11792086183228531 Val Accuracy: 0.965684335443038\n",
            "Epoch: 3 Train Loss: 0.08456691933993535 Train Accuracy: 0.9750744047619048 Val Loss: 0.14309855658053192 Val Accuracy: 0.9617286392405063\n",
            "Epoch: 4 Train Loss: 0.07240955960855419 Train Accuracy: 0.9788057480454868 Val Loss: 0.14117896902695773 Val Accuracy: 0.9618275316455697\n",
            "Epoch: 5 Train Loss: 0.060839411765540016 Train Accuracy: 0.9814210199004975 Val Loss: 0.14275637902840205 Val Accuracy: 0.9652887658227848\n",
            "Epoch: 6 Train Loss: 0.055568243204308386 Train Accuracy: 0.9834255063965884 Val Loss: 0.14682129965383492 Val Accuracy: 0.9658821202531646\n",
            "Epoch: 7 Train Loss: 0.04842067038750864 Train Accuracy: 0.9846026563610518 Val Loss: 0.11991278531380863 Val Accuracy: 0.9701344936708861\n",
            "Epoch: 8 Train Loss: 0.043904918004026315 Train Accuracy: 0.9867348525230988 Val Loss: 0.1273721197594562 Val Accuracy: 0.9686511075949367\n",
            "Epoch: 9 Train Loss: 0.039543530301600696 Train Accuracy: 0.9879841862117981 Val Loss: 0.12360846989654967 Val Accuracy: 0.9714200949367089\n",
            "Epoch: 10 Train Loss: 0.03651457243504691 Train Accuracy: 0.9892834932480454 Val Loss: 0.16566597544474293 Val Accuracy: 0.9642998417721519\n",
            "\n",
            "Model trained successfully!\n",
            "Test loss: 0.16347772288047172 Test accuracy: 0.9646\n"
          ]
        }
      ]
    },
    {
      "cell_type": "markdown",
      "source": [
        "### Comparing the performance"
      ],
      "metadata": {
        "id": "BtX-ooFdxQIK"
      }
    },
    {
      "cell_type": "code",
      "source": [
        "# plotting the metrics for the model #\n",
        "\n",
        "def compare_models_plot(models):\n",
        "    \n",
        "    n = len(models)\n",
        "    model_names = [\"model_\" + str(i) for i in range(n)]\n",
        "    \n",
        "    colors = [\"green\", \"blue\", \"red\", \"brown\"]\n",
        "    titles = [\"Train Loss\", \"Train Accuracy\", \"Val Loss\", \"Val Accuracy\"]\n",
        "    \n",
        "    fig, axs = plt.subplots(2,2, figsize=(10,10))\n",
        "    axs = axs.reshape(-1)\n",
        "    \n",
        "    for i in range(4):\n",
        "        \n",
        "        title = titles[i]\n",
        "        axs[i].set_title(title)\n",
        "        \n",
        "        for j in range(n):\n",
        "            axs[i].plot([d[\"Epoch\"] for d in models[j].history], \n",
        "                            [d[title] for d in models[j].history], \n",
        "                            c=colors[j], \n",
        "                            label=model_names[j])\n",
        "            \n",
        "        axs[i].legend()\n",
        "        \n",
        "    plt.show()"
      ],
      "metadata": {
        "id": "-eUI74cEuQIl"
      },
      "execution_count": 16,
      "outputs": []
    },
    {
      "cell_type": "code",
      "source": [
        "## Comparision of the configurations ##\n",
        "compare_models_plot([model1, model2, model3])"
      ],
      "metadata": {
        "colab": {
          "base_uri": "https://localhost:8080/",
          "height": 607
        },
        "id": "ga0Ue9kmuY0k",
        "outputId": "0364aa52-b34c-4075-d9ca-178a10709d73"
      },
      "execution_count": 17,
      "outputs": [
        {
          "output_type": "display_data",
          "data": {
            "text/plain": [
              "<Figure size 720x720 with 4 Axes>"
            ],
            "image/png": "[encoded data removed]"
          },
          "metadata": {
            "needs_background": "light"
          }
        }
      ]
    }
  ]
}